{
  "cells": [
    {
      "cell_type": "markdown",
      "metadata": {
        "id": "hN2orzSqF-iF"
      },
      "source": [
        "# Natural Language Processing with Python\n",
        "\n",
        "<br>\n",
        "\n",
        "Este notebook será dedicado às listas de exercícios do livro Natural Language Processing with Python. (Capítulos 3, 5, 6)\n",
        "\n",
        "Link do livro: https://tjzhifei.github.io/resources/NLTK.pdf\n"
      ]
    },
    {
      "cell_type": "markdown",
      "metadata": {
        "id": "Ywp-N_EAGjdx"
      },
      "source": [
        "## Capítulo 3\n",
        "\n",
        "Anotações Importantes:\n",
        "-\n",
        "- **Tokenização:** É o processo de quebrar um texto em vários tokens, ou seja, várias palavras separadas. Ex: \"Eu gosto de NLP.\" -> ['Eu', 'gosto', 'de', 'NLP', '.']\n",
        "\n",
        "\n",
        "- **Normalização:** primeira coisa será transformar tudo em lowercase, para isso, usaremos o lower() do Python, além disso teremos:\n",
        "\n",
        "  - Stemming: o Stem de uma palavra é a sua raíz léxica. Ex: andando -> anda. Então stematizar é cortar o sulfixo da palavra para que, por exemplo, a palavra \"Requisito\" e \"Requisitos\" se tornem a mesma coisa.\n",
        "  -  Lemmatização: "
      ]
    },
    {
      "cell_type": "code",
      "execution_count": null,
      "metadata": {
        "colab": {
          "base_uri": "https://localhost:8080/"
        },
        "id": "lMlmzU3MF2-q",
        "outputId": "cd7ef3f1-bc4f-45c4-ed6b-cd3faee915e0"
      },
      "outputs": [
        {
          "name": "stderr",
          "output_type": "stream",
          "text": [
            "[nltk_data] Downloading package punkt_tab to /root/nltk_data...\n",
            "[nltk_data]   Unzipping tokenizers/punkt_tab.zip.\n"
          ]
        },
        {
          "data": {
            "text/plain": [
              "True"
            ]
          },
          "execution_count": 11,
          "metadata": {},
          "output_type": "execute_result"
        }
      ],
      "source": [
        "from __future__ import division\n",
        "import nltk, re, pprint\n",
        "nltk.download('punkt_tab')"
      ]
    },
    {
      "cell_type": "code",
      "execution_count": null,
      "metadata": {
        "id": "zx58gA3nG-9S"
      },
      "outputs": [],
      "source": [
        "\n",
        "raw = \"SOBRE A EMPRESA Superar expectativas é o que nos motiva! Fornecemos soluções logísticas completas, liderando o setor com inovações tecnológicas configuráveis que fornecem um fluxo contínuo de informações e dão à nossa crescente base de clientes uma verdadeira visibilidade da cadeia de suprimentos.  Vem trabalhar com a gente!  (Empresa) Lovers❤️🚢✈️🚛💼📈🎯 PRINCIPAIS ATIVIDADES Criar, manter e dar suporte a projetos de BI. Desenvolver e atualizar dashboards e relatórios em Power BI e Excel. Realizar análises, validações e tratamento de inconsistências nos dados. Elaborar relatórios gerenciais para decisões táticas e estratégicas. Integrar e mesclar dados de diferentes plataformas, bancos e ferramentas. Garantir a qualidade, padronização e governança dos dados. Automatizar processos e fluxos com Power Automate e Python. Criar e otimizar indicadores e métricas em SQL e DAX. Apoiar gestores e áreas na interpretação de dados e geração de insights. REQUISITOS Power BI (modelagem, dashboards e relatórios) Power Automate (fluxos de automação) SQL e SQL Server (consultas, manipulação e integração de dados) DAX (criação de medidas e cálculos no Power BI) Python (tratamento, automação e análise de dados) Excel avançado (fórmulas, tabelas dinâmicas, gráficos) DIFERENCIAIS Modelagem e estruturação de banco de dados Processos de ETL (extração, transformação e carga) Governança e qualidade de dados BENEFÍCIOS AOS COLABORADORES 🩺 Seguro Saúde 🍽️ Vale-Alimentação e Refeição na modalidade flex, em um único cartão. 🚌 Vale-Transporte COMBO BEM-ESTAR: 🏋🏽💪🏼🎧 Total Pass – conecta o colaborador com parceiros de saúde e bem-estar, como academias, estúdios, escolas de dança etc. 🧠💞💭C4Life – presta suporte aos colaboradores e dependentes, com orientações e/ou suporte emocional, noss pilares: Psicológico, Jurídico, Financeiro, Social e Pets. 𝚿🍎 Clude - oferece soluções digitais para a saúde do corpo da mente dos colaboradores. Saúde do Corpo_Telemedicina. Saúde da Mente_ Telepsicologia. Nutrição. Jornada de trabalho: Segunda a sexta-feira | Horário padrão: 8h30 às 17h30 Modalidade de trabalho: presencial, com 1 dia flex - home office  Local: Faria Lima - São Paulo\"\n",
        "\n",
        "tokens = nltk.word_tokenize(raw)\n",
        "text = nltk.Text(tokens)\n"
      ]
    },
    {
      "cell_type": "code",
      "execution_count": null,
      "metadata": {
        "colab": {
          "base_uri": "https://localhost:8080/"
        },
        "collapsed": true,
        "id": "SamP4fCGzgYH",
        "outputId": "6a58bbe6-d112-4a85-ddf7-43d7de7cabcd"
      },
      "outputs": [
        {
          "name": "stdout",
          "output_type": "stream",
          "text": [
            "['SOBRE', 'A', 'EMPRESA', 'Superar', 'expectativas', 'é', 'o', 'que', 'nos', 'motiva', '!', 'Fornecemos', 'soluções', 'logísticas', 'completas', ',', 'liderando', 'o', 'setor', 'com', 'inovações', 'tecnológicas', 'configuráveis', 'que', 'fornecem', 'um', 'fluxo', 'contínuo', 'de', 'informações', 'e', 'dão', 'à', 'nossa', 'crescente', 'base', 'de', 'clientes', 'uma', 'verdadeira', 'visibilidade', 'da', 'cadeia', 'de', 'suprimentos', '.', 'Vem', 'trabalhar', 'com', 'a', 'gente', '!', '(', 'Empresa', ')', 'Lovers', '❤', '️', '🚢', '✈', '️', '🚛', '💼', '📈', '🎯', 'PRINCIPAIS', 'ATIVIDADES', 'Criar', ',', 'manter', 'e', 'dar', 'suporte', 'a', 'projetos', 'de', 'BI', '.', 'Desenvolver', 'e', 'atualizar', 'dashboards', 'e', 'relatórios', 'em', 'Power', 'BI', 'e', 'Excel', '.', 'Realizar', 'análises', ',', 'validações', 'e', 'tratamento', 'de', 'inconsistências', 'nos', 'dados', '.', 'Elaborar', 'relatórios', 'gerenciais', 'para', 'decisões', 'táticas', 'e', 'estratégicas', '.', 'Integrar', 'e', 'mesclar', 'dados', 'de', 'diferentes', 'plataformas', ',', 'bancos', 'e', 'ferramentas', '.', 'Garantir', 'a', 'qualidade', ',', 'padronização', 'e', 'governança', 'dos', 'dados', '.', 'Automatizar', 'processos', 'e', 'fluxos', 'com', 'Power', 'Automate', 'e', 'Python', '.', 'Criar', 'e', 'otimizar', 'indicadores', 'e', 'métricas', 'em', 'SQL', 'e', 'DAX', '.', 'Apoiar', 'gestores', 'e', 'áreas', 'na', 'interpretação', 'de', 'dados', 'e', 'geração', 'de', 'insights', '.', 'REQUISITOS', 'Power', 'BI', '(', 'modelagem', ',', 'dashboards', 'e', 'relatórios', ')', 'Power', 'Automate', '(', 'fluxos', 'de', 'automação', ')', 'SQL', 'e', 'SQL', 'Server', '(', 'consultas', ',', 'manipulação', 'e', 'integração', 'de', 'dados', ')', 'DAX', '(', 'criação', 'de', 'medidas', 'e', 'cálculos', 'no', 'Power', 'BI', ')', 'Python', '(', 'tratamento', ',', 'automação', 'e', 'análise', 'de', 'dados', ')', 'Excel', 'avançado', '(', 'fórmulas', ',', 'tabelas', 'dinâmicas', ',', 'gráficos', ')', 'DIFERENCIAIS', 'Modelagem', 'e', 'estruturação', 'de', 'banco', 'de', 'dados', 'Processos', 'de', 'ETL', '(', 'extração', ',', 'transformação', 'e', 'carga', ')', 'Governança', 'e', 'qualidade', 'de', 'dados', 'BENEFÍCIOS', 'AOS', 'COLABORADORES', '🩺', 'Seguro', 'Saúde', '🍽', '️', 'Vale-Alimentação', 'e', 'Refeição', 'na', 'modalidade', 'flex', ',', 'em', 'um', 'único', 'cartão', '.', '🚌', 'Vale-Transporte', 'COMBO', 'BEM-ESTAR', ':', '🏋', '🏽', '💪', '🏼', '🎧', 'Total', 'Pass', '–', 'conecta', 'o', 'colaborador', 'com', 'parceiros', 'de', 'saúde', 'e', 'bem-estar', ',', 'como', 'academias', ',', 'estúdios', ',', 'escolas', 'de', 'dança', 'etc', '.', '🧠', '💞', '💭C4Life', '–', 'presta', 'suporte', 'aos', 'colaboradores', 'e', 'dependentes', ',', 'com', 'orientações', 'e', '/ou', 'suporte', 'emocional', ',', 'noss', 'pilares', ':', 'Psicológico', ',', 'Jurídico', ',', 'Financeiro', ',', 'Social', 'e', 'Pets', '.', '𝚿', '🍎', 'Clude', '-', 'oferece', 'soluções', 'digitais', 'para', 'a', 'saúde', 'do', 'corpo', 'da', 'mente', 'dos', 'colaboradores', '.', 'Saúde', 'do', 'Corpo_Telemedicina', '.', 'Saúde', 'da', 'Mente_', 'Telepsicologia', '.', 'Nutrição', '.', 'Jornada', 'de', 'trabalho', ':', 'Segunda', 'a', 'sexta-feira', '|', 'Horário', 'padrão', ':', '8h30', 'às', '17h30', 'Modalidade', 'de', 'trabalho', ':', 'presencial', ',', 'com', '1', 'dia', 'flex', '-', 'home', 'office', 'Local', ':', 'Faria', 'Lima', '-', 'São', 'Paulo']\n",
            "['SOBRE', 'A', 'EMPRESA', 'Superar', 'expectativas', 'é', 'o', 'que', 'nos', 'motiva', 'Fornecemos', 'soluções', 'logísticas', 'completas', 'liderando', 'o', 'setor', 'com', 'inovações', 'tecnológicas', 'configuráveis', 'que', 'fornecem', 'um', 'fluxo', 'contínuo', 'de', 'informações', 'e', 'dão', 'à', 'nossa', 'crescente', 'base', 'de', 'clientes', 'uma', 'verdadeira', 'visibilidade', 'da', 'cadeia', 'de', 'suprimentos', 'Vem', 'trabalhar', 'com', 'a', 'gente', 'Empresa', 'Lovers', 'PRINCIPAIS', 'ATIVIDADES', 'Criar', 'manter', 'e', 'dar', 'suporte', 'a', 'projetos', 'de', 'BI', 'Desenvolver', 'e', 'atualizar', 'dashboards', 'e', 'relatórios', 'em', 'Power', 'BI', 'e', 'Excel', 'Realizar', 'análises', 'validações', 'e', 'tratamento', 'de', 'inconsistências', 'nos', 'dados', 'Elaborar', 'relatórios', 'gerenciais', 'para', 'decisões', 'táticas', 'e', 'estratégicas', 'Integrar', 'e', 'mesclar', 'dados', 'de', 'diferentes', 'plataformas', 'bancos', 'e', 'ferramentas', 'Garantir', 'a', 'qualidade', 'padronização', 'e', 'governança', 'dos', 'dados', 'Automatizar', 'processos', 'e', 'fluxos', 'com', 'Power', 'Automate', 'e', 'Python', 'Criar', 'e', 'otimizar', 'indicadores', 'e', 'métricas', 'em', 'SQL', 'e', 'DAX', 'Apoiar', 'gestores', 'e', 'áreas', 'na', 'interpretação', 'de', 'dados', 'e', 'geração', 'de', 'insights', 'REQUISITOS', 'Power', 'BI', 'modelagem', 'dashboards', 'e', 'relatórios', 'Power', 'Automate', 'fluxos', 'de', 'automação', 'SQL', 'e', 'SQL', 'Server', 'consultas', 'manipulação', 'e', 'integração', 'de', 'dados', 'DAX', 'criação', 'de', 'medidas', 'e', 'cálculos', 'no', 'Power', 'BI', 'Python', 'tratamento', 'automação', 'e', 'análise', 'de', 'dados', 'Excel', 'avançado', 'fórmulas', 'tabelas', 'dinâmicas', 'gráficos', 'DIFERENCIAIS', 'Modelagem', 'e', 'estruturação', 'de', 'banco', 'de', 'dados', 'Processos', 'de', 'ETL', 'extração', 'transformação', 'e', 'carga', 'Governança', 'e', 'qualidade', 'de', 'dados', 'BENEFÍCIOS', 'AOS', 'COLABORADORES', 'Seguro', 'Saúde', 'Vale', 'Alimentação', 'e', 'Refeição', 'na', 'modalidade', 'flex', 'em', 'um', 'único', 'cartão', 'Vale', 'Transporte', 'COMBO', 'BEM', 'ESTAR', 'Total', 'Pass', 'conecta', 'o', 'colaborador', 'com', 'parceiros', 'de', 'saúde', 'e', 'bem', 'estar', 'como', 'academias', 'estúdios', 'escolas', 'de', 'dança', 'etc', 'C4Life', 'presta', 'suporte', 'aos', 'colaboradores', 'e', 'dependentes', 'com', 'orientações', 'e', 'ou', 'suporte', 'emocional', 'noss', 'pilares', 'Psicológico', 'Jurídico', 'Financeiro', 'Social', 'e', 'Pets', '𝚿', 'Clude', 'oferece', 'soluções', 'digitais', 'para', 'a', 'saúde', 'do', 'corpo', 'da', 'mente', 'dos', 'colaboradores', 'Saúde', 'do', 'Corpo_Telemedicina', 'Saúde', 'da', 'Mente_', 'Telepsicologia', 'Nutrição', 'Jornada', 'de', 'trabalho', 'Segunda', 'a', 'sexta', 'feira', 'Horário', 'padrão', '8h30', 'às', '17h30', 'Modalidade', 'de', 'trabalho', 'presencial', 'com', '1', 'dia', 'flex', 'home', 'office', 'Local', 'Faria', 'Lima', 'São', 'Paulo']\n",
            "['SOBRE', 'A', 'EMPRESA', 'Superar', 'expectativas', 'é', 'o', 'que', 'nos', 'motiva', '!', 'Fornecemos', 'soluções', 'logísticas', 'completas', ',', 'liderando', 'o', 'setor', 'com', 'inovações', 'tecnológicas', 'configuráveis', 'que', 'fornecem', 'um', 'fluxo', 'contínuo', 'de', 'informações', 'e', 'dão', 'à', 'nossa', 'crescente', 'base', 'de', 'clientes', 'uma', 'verdadeira', 'visibilidade', 'da', 'cadeia', 'de', 'suprimentos', '.', 'Vem', 'trabalhar', 'com', 'a', 'gente', '!', '(', 'Empresa', ')', 'Lovers', '❤️🚢✈️🚛💼📈🎯', 'PRINCIPAIS', 'ATIVIDADES', 'Criar', ',', 'manter', 'e', 'dar', 'suporte', 'a', 'projetos', 'de', 'BI', '.', 'Desenvolver', 'e', 'atualizar', 'dashboards', 'e', 'relatórios', 'em', 'Power', 'BI', 'e', 'Excel', '.', 'Realizar', 'análises', ',', 'validações', 'e', 'tratamento', 'de', 'inconsistências', 'nos', 'dados', '.', 'Elaborar', 'relatórios', 'gerenciais', 'para', 'decisões', 'táticas', 'e', 'estratégicas', '.', 'Integrar', 'e', 'mesclar', 'dados', 'de', 'diferentes', 'plataformas', ',', 'bancos', 'e', 'ferramentas', '.', 'Garantir', 'a', 'qualidade', ',', 'padronização', 'e', 'governança', 'dos', 'dados', '.', 'Automatizar', 'processos', 'e', 'fluxos', 'com', 'Power', 'Automate', 'e', 'Python', '.', 'Criar', 'e', 'otimizar', 'indicadores', 'e', 'métricas', 'em', 'SQL', 'e', 'DAX', '.', 'Apoiar', 'gestores', 'e', 'áreas', 'na', 'interpretação', 'de', 'dados', 'e', 'geração', 'de', 'insights', '.', 'REQUISITOS', 'Power', 'BI', '(', 'modelagem', ',', 'dashboards', 'e', 'relatórios', ')', 'Power', 'Automate', '(', 'fluxos', 'de', 'automação', ')', 'SQL', 'e', 'SQL', 'Server', '(', 'consultas', ',', 'manipulação', 'e', 'integração', 'de', 'dados', ')', 'DAX', '(', 'criação', 'de', 'medidas', 'e', 'cálculos', 'no', 'Power', 'BI', ')', 'Python', '(', 'tratamento', ',', 'automação', 'e', 'análise', 'de', 'dados', ')', 'Excel', 'avançado', '(', 'fórmulas', ',', 'tabelas', 'dinâmicas', ',', 'gráficos', ')', 'DIFERENCIAIS', 'Modelagem', 'e', 'estruturação', 'de', 'banco', 'de', 'dados', 'Processos', 'de', 'ETL', '(', 'extração', ',', 'transformação', 'e', 'carga', ')', 'Governança', 'e', 'qualidade', 'de', 'dados', 'BENEFÍCIOS', 'AOS', 'COLABORADORES', '🩺', 'Seguro', 'Saúde', '🍽️', 'Vale', '-', 'Alimentação', 'e', 'Refeição', 'na', 'modalidade', 'flex', ',', 'em', 'um', 'único', 'cartão', '.', '🚌', 'Vale', '-', 'Transporte', 'COMBO', 'BEM', '-', 'ESTAR', ':', '🏋🏽💪🏼🎧', 'Total', 'Pass', '–', 'conecta', 'o', 'colaborador', 'com', 'parceiros', 'de', 'saúde', 'e', 'bem', '-', 'estar', ',', 'como', 'academias', ',', 'estúdios', ',', 'escolas', 'de', 'dança', 'etc', '.', '🧠💞💭', 'C4Life', '–', 'presta', 'suporte', 'aos', 'colaboradores', 'e', 'dependentes', ',', 'com', 'orientações', 'e', '/', 'ou', 'suporte', 'emocional', ',', 'noss', 'pilares', ':', 'Psicológico', ',', 'Jurídico', ',', 'Financeiro', ',', 'Social', 'e', 'Pets', '.', '𝚿', '🍎', 'Clude', '-', 'oferece', 'soluções', 'digitais', 'para', 'a', 'saúde', 'do', 'corpo', 'da', 'mente', 'dos', 'colaboradores', '.', 'Saúde', 'do', 'Corpo_Telemedicina', '.', 'Saúde', 'da', 'Mente_', 'Telepsicologia', '.', 'Nutrição', '.', 'Jornada', 'de', 'trabalho', ':', 'Segunda', 'a', 'sexta', '-', 'feira', '|', 'Horário', 'padrão', ':', '8h30', 'às', '17h30', 'Modalidade', 'de', 'trabalho', ':', 'presencial', ',', 'com', '1', 'dia', 'flex', '-', 'home', 'office', 'Local', ':', 'Faria', 'Lima', '-', 'São', 'Paulo']\n"
          ]
        }
      ],
      "source": [
        "# Outras formas de tokenizar\n",
        "teste = re.findall(r\"\\w+(?:[-']\\w+)*|'|[-.(]+|\\S\\w*\", raw)\n",
        "print(teste)\n",
        "teste = re.split(r'\\W+', raw)\n",
        "print(teste)\n",
        "teste = nltk.regexp_tokenize(raw, pattern=r\"\\w+(?:'\\w+)?|[^\\w\\s]+\")\n",
        "print(teste)\n",
        "\n",
        "# Outro exemplo abaixo:\n",
        "\n",
        "# text = 'That U.S.A. poster-print costs $12.40...'\n",
        "# pattern = r'(?x)'\n",
        "# ... ([A-Z]\\.)+ # abbreviations, e.g. U.S.A.\n",
        "# ... | \\w+(-\\w+)* # words with optional internal hyphens\n",
        "# ... | \\$?\\d+(\\.\\d+)?%? # currency and percentages, e.g. $12.40, 82%\n",
        "# ... | \\.\\.\\. # ellipsis\n",
        "# ... | [][.,;\"'?():-_`] # these are separate tokens\n",
        "# nltk.regexp_tokenize(text, pattern)"
      ]
    },
    {
      "cell_type": "code",
      "execution_count": null,
      "metadata": {
        "colab": {
          "base_uri": "https://localhost:8080/"
        },
        "id": "dRZR8mvEOEiA",
        "outputId": "48f59730-a312-4b13-b189-7620eda9f9cb"
      },
      "outputs": [
        {
          "name": "stdout",
          "output_type": "stream",
          "text": [
            "['SOBRE', 'A', 'EMPRESA', 'Superar', 'expectativas', 'é', 'o', 'que', 'nos', 'motiva', '!', 'Fornecemos', 'soluções', 'logísticas', 'completas', ',', 'liderando', 'o', 'setor', 'com', 'inovações', 'tecnológicas', 'configuráveis', 'que', 'fornecem', 'um', 'fluxo', 'contínuo', 'de', 'informações', 'e', 'dão', 'à', 'nossa', 'crescente', 'base', 'de', 'clientes', 'uma', 'verdadeira', 'visibilidade', 'da', 'cadeia', 'de', 'suprimentos', '.', 'Vem', 'trabalhar', 'com', 'a', 'gente', '!', '(', 'Empresa', ')', 'Lovers❤️🚢✈️🚛💼📈🎯', 'PRINCIPAIS', 'ATIVIDADES', 'Criar', ',', 'manter', 'e', 'dar', 'suporte', 'a', 'projetos', 'de', 'BI', '.', 'Desenvolver', 'e', 'atualizar', 'dashboards', 'e', 'relatórios', 'em', 'Power', 'BI', 'e', 'Excel', '.', 'Realizar', 'análises', ',', 'validações', 'e', 'tratamento', 'de', 'inconsistências', 'nos', 'dados', '.', 'Elaborar', 'relatórios', 'gerenciais', 'para', 'decisões', 'táticas', 'e', 'estratégicas', '.', 'Integrar', 'e', 'mesclar', 'dados', 'de', 'diferentes', 'plataformas', ',', 'bancos', 'e', 'ferramentas', '.', 'Garantir', 'a', 'qualidade', ',', 'padronização', 'e', 'governança', 'dos', 'dados', '.', 'Automatizar', 'processos', 'e', 'fluxos', 'com', 'Power', 'Automate', 'e', 'Python', '.', 'Criar', 'e', 'otimizar', 'indicadores', 'e', 'métricas', 'em', 'SQL', 'e', 'DAX', '.', 'Apoiar', 'gestores', 'e', 'áreas', 'na', 'interpretação', 'de', 'dados', 'e', 'geração', 'de', 'insights', '.', 'REQUISITOS', 'Power', 'BI', '(', 'modelagem', ',', 'dashboards', 'e', 'relatórios', ')', 'Power', 'Automate', '(', 'fluxos', 'de', 'automação', ')', 'SQL', 'e', 'SQL', 'Server', '(', 'consultas', ',', 'manipulação', 'e', 'integração', 'de', 'dados', ')', 'DAX', '(', 'criação', 'de', 'medidas', 'e', 'cálculos', 'no', 'Power', 'BI', ')', 'Python', '(', 'tratamento', ',', 'automação', 'e', 'análise', 'de', 'dados', ')', 'Excel', 'avançado', '(', 'fórmulas', ',', 'tabelas', 'dinâmicas', ',', 'gráficos', ')', 'DIFERENCIAIS', 'Modelagem', 'e', 'estruturação', 'de', 'banco', 'de', 'dados', 'Processos', 'de', 'ETL', '(', 'extração', ',', 'transformação', 'e', 'carga', ')', 'Governança', 'e', 'qualidade', 'de', 'dados', 'BENEFÍCIOS', 'AOS', 'COLABORADORES', '🩺', 'Seguro', 'Saúde', '🍽️', 'Vale-Alimentação', 'e', 'Refeição', 'na', 'modalidade', 'flex', ',', 'em', 'um', 'único', 'cartão', '.', '🚌', 'Vale-Transporte', 'COMBO', 'BEM-ESTAR', ':', '🏋🏽💪🏼🎧', 'Total', 'Pass', '–', 'conecta', 'o', 'colaborador', 'com', 'parceiros', 'de', 'saúde', 'e', 'bem-estar', ',', 'como', 'academias', ',', 'estúdios', ',', 'escolas', 'de', 'dança', 'etc', '.', '🧠💞💭C4Life', '–', 'presta', 'suporte', 'aos', 'colaboradores', 'e', 'dependentes', ',', 'com', 'orientações', 'e/ou', 'suporte', 'emocional', ',', 'noss', 'pilares', ':', 'Psicológico', ',', 'Jurídico', ',', 'Financeiro', ',', 'Social', 'e', 'Pets', '.', '𝚿🍎', 'Clude', '-', 'oferece', 'soluções', 'digitais', 'para', 'a', 'saúde', 'do', 'corpo', 'da', 'mente', 'dos', 'colaboradores', '.', 'Saúde', 'do', 'Corpo_Telemedicina', '.', 'Saúde', 'da', 'Mente_', 'Telepsicologia', '.', 'Nutrição', '.', 'Jornada', 'de', 'trabalho', ':', 'Segunda', 'a', 'sexta-feira', '|', 'Horário', 'padrão', ':', '8h30', 'às', '17h30', 'Modalidade', 'de', 'trabalho', ':', 'presencial', ',', 'com', '1', 'dia', 'flex', '-', 'home', 'office', 'Local', ':', 'Faria', 'Lima', '-', 'São', 'Paulo']\n",
            "['sobr', 'a', 'empresa', 'superar', 'expectativa', 'é', 'o', 'que', 'no', 'motiva', '!', 'fornecemo', 'soluçõ', 'logística', 'completa', ',', 'liderando', 'o', 'setor', 'com', 'inovaçõ', 'tecnológica', 'configurávei', 'que', 'fornecem', 'um', 'fluxo', 'contínuo', 'de', 'informaçõ', 'e', 'dão', 'à', 'nossa', 'crescent', 'base', 'de', 'client', 'uma', 'verdadeira', 'visibilidad', 'da', 'cadeia', 'de', 'suprimento', '.', 'vem', 'trabalhar', 'com', 'a', 'gent', '!', '(', 'empresa', ')', 'lovers❤️🚢✈️🚛💼📈🎯', 'principai', 'atividad', 'criar', ',', 'manter', 'e', 'dar', 'suport', 'a', 'projeto', 'de', 'bi', '.', 'desenvolv', 'e', 'atualizar', 'dashboard', 'e', 'relatório', 'em', 'power', 'bi', 'e', 'excel', '.', 'realizar', 'anális', ',', 'validaçõ', 'e', 'tratamento', 'de', 'inconsistência', 'no', 'dado', '.', 'elaborar', 'relatório', 'gerenciai', 'para', 'decisõ', 'tática', 'e', 'estratégica', '.', 'integrar', 'e', 'mesclar', 'dado', 'de', 'diferent', 'plataforma', ',', 'banco', 'e', 'ferramenta', '.', 'garantir', 'a', 'qualidad', ',', 'padronização', 'e', 'governança', 'do', 'dado', '.', 'automatizar', 'processo', 'e', 'fluxo', 'com', 'power', 'autom', 'e', 'python', '.', 'criar', 'e', 'otimizar', 'indicador', 'e', 'métrica', 'em', 'sql', 'e', 'dax', '.', 'apoiar', 'gestor', 'e', 'área', 'na', 'interpretação', 'de', 'dado', 'e', 'geração', 'de', 'insight', '.', 'requisito', 'power', 'bi', '(', 'modelagem', ',', 'dashboard', 'e', 'relatório', ')', 'power', 'autom', '(', 'fluxo', 'de', 'automação', ')', 'sql', 'e', 'sql', 'server', '(', 'consulta', ',', 'manipulação', 'e', 'integração', 'de', 'dado', ')', 'dax', '(', 'criação', 'de', 'medida', 'e', 'cálculo', 'no', 'power', 'bi', ')', 'python', '(', 'tratamento', ',', 'automação', 'e', 'anális', 'de', 'dado', ')', 'excel', 'avançado', '(', 'fórmula', ',', 'tabela', 'dinâmica', ',', 'gráfico', ')', 'diferenciai', 'modelagem', 'e', 'estruturação', 'de', 'banco', 'de', 'dado', 'processo', 'de', 'etl', '(', 'extração', ',', 'transformação', 'e', 'carga', ')', 'governança', 'e', 'qualidad', 'de', 'dado', 'benefício', 'ao', 'colaborador', '🩺', 'seguro', 'saúd', '🍽️', 'vale-alimentação', 'e', 'refeição', 'na', 'modalidad', 'flex', ',', 'em', 'um', 'único', 'cartão', '.', '🚌', 'vale-transport', 'combo', 'bem-estar', ':', '🏋🏽💪🏼🎧', 'total', 'pass', '–', 'conecta', 'o', 'colaborador', 'com', 'parceiro', 'de', 'saúd', 'e', 'bem-estar', ',', 'como', 'academia', ',', 'estúdio', ',', 'escola', 'de', 'dança', 'etc', '.', '🧠💞💭c4life', '–', 'presta', 'suport', 'ao', 'colaborador', 'e', 'dependent', ',', 'com', 'orientaçõ', 'e/ou', 'suport', 'emocion', ',', 'noss', 'pilar', ':', 'psicológico', ',', 'jurídico', ',', 'financeiro', ',', 'social', 'e', 'pet', '.', '𝚿🍎', 'clude', '-', 'oferec', 'soluçõ', 'digitai', 'para', 'a', 'saúd', 'do', 'corpo', 'da', 'ment', 'do', 'colaborador', '.', 'saúd', 'do', 'corpo_telemedicina', '.', 'saúd', 'da', 'mente_', 'telepsicologia', '.', 'nutrição', '.', 'jornada', 'de', 'trabalho', ':', 'segunda', 'a', 'sexta-feira', '|', 'horário', 'padrão', ':', '8h30', 'às', '17h30', 'modalidad', 'de', 'trabalho', ':', 'presenci', ',', 'com', '1', 'dia', 'flex', '-', 'home', 'offic', 'local', ':', 'faria', 'lima', '-', 'são', 'paulo']\n"
          ]
        }
      ],
      "source": [
        "# Testando o Stemming\n",
        "porter = nltk.PorterStemmer()\n",
        "\n",
        "\n",
        "# Podemos notar a diferença entre o texto antes de stematizar e depois. Antes de stematizar, as palavras possuem os sulfixos e estão distribuídas com letras maiúsculas e minúsculas.\n",
        "# Após stematizarmos o texto, o nltk, por padrão, já deixa tudo em lowercase e sem os sulfixos, então podemos, por padrão, extrair os requisitos como \"requisito\" no lugar de \"REQUISITO\" ou \"requisitos\".\n",
        "print([i for i in text])\n",
        "print([porter.stem(i) for i in text])\n"
      ]
    },
    {
      "cell_type": "code",
      "execution_count": null,
      "metadata": {
        "id": "nlPS-yN_2Bm5"
      },
      "outputs": [],
      "source": []
    }
  ],
  "metadata": {
    "colab": {
      "provenance": []
    },
    "kernelspec": {
      "display_name": "Python 3",
      "name": "python3"
    },
    "language_info": {
      "name": "python"
    }
  },
  "nbformat": 4,
  "nbformat_minor": 0
}
